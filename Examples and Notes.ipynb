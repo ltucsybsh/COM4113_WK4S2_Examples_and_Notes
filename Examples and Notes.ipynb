{
 "cells": [
  {
   "cell_type": "markdown",
   "metadata": {},
   "source": [
    "# Activity 1: Bootstrap Grid System\n",
    "\n",
    "### Time: 30 minutes\n",
    "\n",
    "Follow the instructions in [BootstrapNotes.ipynb](./Bootstrap_GridSystem/BootstrapNotes.ipynb) and practice with the examples available from bootstrap documentation. \n",
    "\n",
    "### Comit and Sync \n",
    "Make sure that you commit and sync your files to your Week 4 Session 2 classroom repository. "
   ]
  },
  {
   "cell_type": "markdown",
   "metadata": {
    "vscode": {
     "languageId": "plaintext"
    }
   },
   "source": [
    "__________________________________________________________________________________________________\n",
    "## Activity 2: About us page\n",
    "\n",
    "### Time: 30 minutes \n",
    "\n",
    "Go to the following link and replicate the HTML and CSS code. use this as a starting point to start your own \"About us\" page. \n",
    "\n",
    "https://www.w3schools.com/howto/howto_css_about_page.asp\n",
    "\n",
    "Use the sample code to create an \"About Us\" page. Make sure that you edit page, and make it your page, your style. \n",
    "\n",
    "### Requirements\n",
    "\n",
    "* The page should have a title\n",
    "* The page should come with a description of the page on top\n",
    "* The page should have at least one image of the team or developers\n",
    "* A YouTube video should be included on the page\n",
    "* A Google Map should be embedded into the page\n",
    "\n",
    "### Comit and Sync \n",
    "Make sure that you commit and sync your files to your Week 4 Session 2 classroom repository. "
   ]
  },
  {
   "cell_type": "markdown",
   "metadata": {},
   "source": [
    "__________________________________________________________________________________________________\n",
    "## Activity 3: Contact us page\n",
    "\n",
    "### Time: 30 minutes\n",
    "\n",
    "Go to the following link and check the HTML and CSS file. \n",
    "\n",
    "https://www.w3schools.com/howto/tryit.asp?filename=tryhow_css_contact_section\n",
    "\n",
    "Use the sample code to create an \"About Us\" page. Make sure that you edit page, and make it your page, your style. \n",
    "\n",
    "### Requirements\n",
    "\n",
    "* The page should have animated buttoms.\n",
    "* Contact form\n",
    "  * Name (required)\n",
    "  * Email (required)\n",
    "  * Phone number (optional)\n",
    "  * Message (required)\n",
    "* Social Media List\n",
    "* Link to FAQ page\n",
    "\n",
    "### Resources\n",
    "* Here is a website for animated buttoms \n",
    "  https://lottiefiles.com/free-animations/button\n",
    "\n",
    "* How to make an input field required\n",
    "https://www.w3schools.com/tags/att_input_required.asp\n",
    "\n",
    "\n",
    "\n",
    "### Comit and Sync \n",
    "Make sure that you commit and sync your files to your Week 4 Session 2 classroom repository. "
   ]
  }
 ],
 "metadata": {
  "language_info": {
   "name": "python"
  }
 },
 "nbformat": 4,
 "nbformat_minor": 2
}
