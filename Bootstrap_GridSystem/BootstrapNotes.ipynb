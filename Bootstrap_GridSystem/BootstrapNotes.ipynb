{
 "cells": [
  {
   "cell_type": "markdown",
   "metadata": {},
   "source": [
    "Navigate to \n",
    "\n",
    "https://getbootstrap.com/docs/4.0/layout/grid/\n",
    "\n",
    "and replicate the examples on the page. "
   ]
  }
 ],
 "metadata": {
  "language_info": {
   "name": "python"
  }
 },
 "nbformat": 4,
 "nbformat_minor": 2
}
